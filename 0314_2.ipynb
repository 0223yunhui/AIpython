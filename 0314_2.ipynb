{
  "nbformat": 4,
  "nbformat_minor": 0,
  "metadata": {
    "colab": {
      "provenance": []
    },
    "kernelspec": {
      "name": "python3",
      "display_name": "Python 3"
    },
    "language_info": {
      "name": "python"
    }
  },
  "cells": [
    {
      "cell_type": "code",
      "execution_count": 20,
      "metadata": {
        "colab": {
          "base_uri": "https://localhost:8080/"
        },
        "id": "9EvVcOiEdd1i",
        "outputId": "8c9c01d3-926a-4a26-9939-d4146e6e7fcb"
      },
      "outputs": [
        {
          "output_type": "stream",
          "name": "stdout",
          "text": [
            "반지름이 5 인 원의 면적은 78.5398 입니다\n"
          ]
        }
      ],
      "source": [
        "#반지름이 5인 원의 면적을 구하시오. 원주율 값은 3.141592로 계산합니다.\n",
        "\n",
        "p=3.141592\n",
        "r=5\n",
        "area=p*r*r\n",
        "\n",
        "print(\"반지름이\",r,\"인 원의 면적은\", area, \"입니다\")"
      ]
    },
    {
      "cell_type": "markdown",
      "source": [],
      "metadata": {
        "id": "OqAgTVCWd2xO"
      }
    },
    {
      "cell_type": "code",
      "source": [
        "#문제2: 분(정수)를 시간과 분으로 변환하여 출력하시오(100분은 1시간 40분 입니다)\n",
        "\n",
        "t=100\n",
        "h=t/60\n",
        "m=t%60\n",
        "print(t, \"분은\", h, \"시간\", m, \"분 입니다\")"
      ],
      "metadata": {
        "colab": {
          "base_uri": "https://localhost:8080/"
        },
        "id": "JtM83rCtfCvk",
        "outputId": "1951e321-be91-4c8e-9d52-cb0415aa77e1"
      },
      "execution_count": 21,
      "outputs": [
        {
          "output_type": "stream",
          "name": "stdout",
          "text": [
            "100 분은 1.6666666666666667 시간 40 분 입니다\n"
          ]
        }
      ]
    }
  ]
}