{
 "cells": [
  {
   "cell_type": "code",
   "execution_count": 6,
   "id": "a38e2b8a-896d-48c1-b54e-e9cfea1cd6fd",
   "metadata": {},
   "outputs": [
    {
     "name": "stdin",
     "output_type": "stream",
     "text": [
      "나이를 입력하세요 22\n"
     ]
    },
    {
     "name": "stdout",
     "output_type": "stream",
     "text": [
      "당신은 내년에 23 살 입니다.\n"
     ]
    }
   ],
   "source": [
    "age=input(\"나이를 입력하세요\")\n",
    "age=int(age)\n",
    "print(\"당신은 내년에\",age+1, \"살 입니다.\")"
   ]
  },
  {
   "cell_type": "code",
   "execution_count": 7,
   "id": "c49fa7a4-cc99-49aa-8695-f3347ddbc38f",
   "metadata": {},
   "outputs": [
    {
     "name": "stdin",
     "output_type": "stream",
     "text": [
      "나이를 입력하세요 22\n"
     ]
    },
    {
     "name": "stdout",
     "output_type": "stream",
     "text": [
      "당신은 내년에 23 살 입니다.\n"
     ]
    }
   ],
   "source": [
    "age=input(\"나이를 입력하세요\")\n",
    "age=int(age)\n",
    "age=age+1\n",
    "print(\"당신은 내년에\",age, \"살 입니다.\")"
   ]
  },
  {
   "cell_type": "code",
   "execution_count": 8,
   "id": "4439dc27-96bf-4f25-b46c-9514887da2fb",
   "metadata": {},
   "outputs": [
    {
     "name": "stdin",
     "output_type": "stream",
     "text": [
      "나이를 입력하세요 22\n"
     ]
    },
    {
     "ename": "TypeError",
     "evalue": "can only concatenate str (not \"int\") to str",
     "output_type": "error",
     "traceback": [
      "\u001b[0;31m---------------------------------------------------------------------------\u001b[0m",
      "\u001b[0;31mTypeError\u001b[0m                                 Traceback (most recent call last)",
      "Cell \u001b[0;32mIn[8], line 3\u001b[0m\n\u001b[1;32m      1\u001b[0m age\u001b[38;5;241m=\u001b[39m\u001b[38;5;28minput\u001b[39m(\u001b[38;5;124m\"\u001b[39m\u001b[38;5;124m나이를 입력하세요\u001b[39m\u001b[38;5;124m\"\u001b[39m)\n\u001b[1;32m      2\u001b[0m \u001b[38;5;66;03m#age=int(age)\u001b[39;00m\n\u001b[0;32m----> 3\u001b[0m \u001b[38;5;28mprint\u001b[39m(\u001b[38;5;124m\"\u001b[39m\u001b[38;5;124m당신은 내년에\u001b[39m\u001b[38;5;124m\"\u001b[39m,\u001b[43mage\u001b[49m\u001b[38;5;241;43m+\u001b[39;49m\u001b[38;5;241;43m1\u001b[39;49m, \u001b[38;5;124m\"\u001b[39m\u001b[38;5;124m살 입니다.\u001b[39m\u001b[38;5;124m\"\u001b[39m)\n",
      "\u001b[0;31mTypeError\u001b[0m: can only concatenate str (not \"int\") to str"
     ]
    }
   ],
   "source": [
    "age=input(\"나이를 입력하세요\")\n",
    "#age=int(age)\n",
    "print(\"당신은 내년에\",age+1, \"살 입니다.\")"
   ]
  },
  {
   "cell_type": "code",
   "execution_count": 9,
   "id": "478ead65-b90e-4335-9cad-d340444aec77",
   "metadata": {},
   "outputs": [
    {
     "name": "stdin",
     "output_type": "stream",
     "text": [
      "나이를 입력하세요 22\n"
     ]
    },
    {
     "name": "stdout",
     "output_type": "stream",
     "text": [
      "당신은 내년에 23 살 입니다.\n"
     ]
    }
   ],
   "source": [
    "age=int(input(\"나이를 입력하세요\"))\n",
    "print(\"당신은 내년에\",age+1, \"살 입니다.\")"
   ]
  },
  {
   "cell_type": "code",
   "execution_count": 10,
   "id": "12e47762-43d5-497c-9ed8-7f7bfccc7551",
   "metadata": {},
   "outputs": [
    {
     "name": "stdin",
     "output_type": "stream",
     "text": [
      "나이를 입력하세요 22\n"
     ]
    },
    {
     "name": "stdout",
     "output_type": "stream",
     "text": [
      "당신은 내년에 23.0 살 입니다.\n"
     ]
    }
   ],
   "source": [
    "age=float(input(\"나이를 입력하세요\"))\n",
    "print(\"당신은 내년에\",age+1, \"살 입니다.\")"
   ]
  },
  {
   "cell_type": "code",
   "execution_count": 13,
   "id": "759740af-412b-4999-9806-fa9c7ec71fd3",
   "metadata": {},
   "outputs": [
    {
     "name": "stdin",
     "output_type": "stream",
     "text": [
      "나이를 입력하세요 22\n"
     ]
    },
    {
     "name": "stdout",
     "output_type": "stream",
     "text": [
      "22살 입니다.\n"
     ]
    }
   ],
   "source": [
    "age=int(input(\"나이를 입력하세요\"))\n",
    "print(str(age)+\"살 입니다.\")"
   ]
  },
  {
   "cell_type": "code",
   "execution_count": 16,
   "id": "4097d175-07d5-45d9-a20c-7f3b4b753b80",
   "metadata": {},
   "outputs": [
    {
     "name": "stdin",
     "output_type": "stream",
     "text": [
      "숫자를 입력하세요. 0\n"
     ]
    },
    {
     "name": "stdout",
     "output_type": "stream",
     "text": [
      "양수도 음수도 아닙니다.\n"
     ]
    }
   ],
   "source": [
    "#입력한 숫자가 양수인지 음수인지 판단하는 코드를 작성한다\n",
    "number=int(input(\"숫자를 입력하세요.\"))\n",
    "if number>0:\n",
    "    print(\"이 숫자는 양수입니다.\")\n",
    "elif number<0:\n",
    "    print(\"이 숫자는 음수입니다.\")\n",
    "else:\n",
    "    print(\"양수도 음수도 아닙니다.\")"
   ]
  },
  {
   "cell_type": "code",
   "execution_count": 20,
   "id": "ab1cb970-97f0-47ca-a8e0-52d7435b65b8",
   "metadata": {},
   "outputs": [
    {
     "name": "stdin",
     "output_type": "stream",
     "text": [
      "숫자를 입력하세요. 3\n"
     ]
    },
    {
     "name": "stdout",
     "output_type": "stream",
     "text": [
      "이 숫자는 홀수입니다.\n"
     ]
    }
   ],
   "source": [
    "#입력한 숫자가 짝수인지 홀수인지 판단하는 코드를 작성한다. \n",
    "number=int(input(\"숫자를 입력하세요.\"))\n",
    "if (number%2)==0:\n",
    "    print(\"이 숫자는 짝수입니다.\")\n",
    "else:\n",
    "    print(\"이 숫자는 홀수입니다.\")"
   ]
  },
  {
   "cell_type": "code",
   "execution_count": null,
   "id": "b827ab36-1d8c-4898-be11-f09f2306d046",
   "metadata": {},
   "outputs": [],
   "source": [
    "num=int(input(\"숫자를 입력하세요.\"))\n",
    "if num==1 or num==2 or num==3:\n",
    "    print(True)\n",
    "else:\n",
    "    print(False)\n"
   ]
  },
  {
   "cell_type": "code",
   "execution_count": 21,
   "id": "3b59f1e3-8ba0-4055-9fc3-ac45e51c00ce",
   "metadata": {},
   "outputs": [
    {
     "name": "stdin",
     "output_type": "stream",
     "text": [
      " 3 1\n"
     ]
    }
   ],
   "source": [
    "a,b=map(int, input().split())"
   ]
  },
  {
   "cell_type": "code",
   "execution_count": null,
   "id": "82ae8f8b-33c8-4166-93dc-a53a2e9a2cfb",
   "metadata": {},
   "outputs": [],
   "source": [
    "num=int(input(\"숫자를 입력하세요.\"))\n",
    "if num==1 or num==2 or num==3:\n",
    "print(True)\n",
    "a,b=map(int, input().split())\n",
    "if a=1 and b=3 or a=2 and b=1 or a=3 and b=2: print(\"A승 B패\")\n",
    "if a==b\n",
    "print(\"무승부\")"
   ]
  },
  {
   "cell_type": "code",
   "execution_count": null,
   "id": "0447daf0-7fdc-4a68-9727-80c43c07fdc5",
   "metadata": {},
   "outputs": [],
   "source": [
    "a,b=map(int, input().split())\n",
    "if a==b:\n",
    "    print(\"무승부\")\n",
    "elif a>3 or b>3:\n",
    "    print(\"잘못된입력\")\n",
    "elif a==1 and b==3 or a==2 and b==1 or a==3 and b==2:\n",
    "    print(\"A승 B패\")\n",
    "else:\n",
    "    print(\"B승 A패\")"
   ]
  },
  {
   "cell_type": "code",
   "execution_count": null,
   "id": "945f6c55-7e50-4d9e-909e-ac66620b13d0",
   "metadata": {},
   "outputs": [],
   "source": [
    "\n"
   ]
  }
 ],
 "metadata": {
  "kernelspec": {
   "display_name": "Python 3 (ipykernel)",
   "language": "python",
   "name": "python3"
  },
  "language_info": {
   "codemirror_mode": {
    "name": "ipython",
    "version": 3
   },
   "file_extension": ".py",
   "mimetype": "text/x-python",
   "name": "python",
   "nbconvert_exporter": "python",
   "pygments_lexer": "ipython3",
   "version": "3.12.6"
  }
 },
 "nbformat": 4,
 "nbformat_minor": 5
}
