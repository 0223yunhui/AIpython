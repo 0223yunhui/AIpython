{
 "cells": [
  {
   "cell_type": "code",
   "execution_count": 7,
   "id": "13874bbf-a150-4de8-a534-aa22d11a383e",
   "metadata": {},
   "outputs": [
    {
     "name": "stdin",
     "output_type": "stream",
     "text": [
      "섭씨온도: 27\n"
     ]
    },
    {
     "name": "stdout",
     "output_type": "stream",
     "text": [
      "화씨온도 80.6\n"
     ]
    }
   ],
   "source": [
    "C=int(input('섭씨온도:'))\n",
    "F=C*9/5+32\n",
    "print('화씨온도', C*9/5+32)"
   ]
  },
  {
   "cell_type": "code",
   "execution_count": 8,
   "id": "caf51ae7-f786-4d73-bfa1-ff96888a27c5",
   "metadata": {},
   "outputs": [
    {
     "name": "stdin",
     "output_type": "stream",
     "text": [
      "화씨온도: 34\n"
     ]
    },
    {
     "name": "stdout",
     "output_type": "stream",
     "text": [
      "섭씨온도 1.1111111111111112\n"
     ]
    }
   ],
   "source": [
    "F=int(input('화씨온도:'))\n",
    "C=(F-32)*5/9\n",
    "print('섭씨온도', (F-32)*5/9)"
   ]
  },
  {
   "cell_type": "code",
   "execution_count": 9,
   "id": "a5daed56-9a4c-48c4-a31f-bb36daa66881",
   "metadata": {},
   "outputs": [
    {
     "name": "stdin",
     "output_type": "stream",
     "text": [
      "섭씨온도: 34\n"
     ]
    },
    {
     "name": "stdout",
     "output_type": "stream",
     "text": [
      "화씨온도 61.4\n"
     ]
    }
   ],
   "source": [
    "C=int(input('섭씨온도:'))\n",
    "F=C*9/5+32\n",
    "print('화씨온도', C*9/5+32%.2)"
   ]
  },
  {
   "cell_type": "code",
   "execution_count": null,
   "id": "f1b594db-9d24-4bcd-b290-5e815013de95",
   "metadata": {},
   "outputs": [],
   "source": [
    "F=int(input('화씨온도:'))\n",
    "C=(F-32)*5/9\n",
    "print('섭씨온도', (F-32)*5/9%2)\n",
    "\n",
    "ㅔ갸ㅜㅅ(온도:%2F%teamp"
   ]
  },
  {
   "cell_type": "code",
   "execution_count": 14,
   "id": "a75efff3-8da3-46cc-a805-7decee7a173e",
   "metadata": {},
   "outputs": [
    {
     "name": "stdout",
     "output_type": "stream",
     "text": [
      "1부터 100까지의 수 중 하나를 정했습니다.\n",
      "이 숫자를 맞춰보세요\n"
     ]
    },
    {
     "name": "stdin",
     "output_type": "stream",
     "text": [
      "1~100 숫자 입력: 27\n"
     ]
    },
    {
     "name": "stdout",
     "output_type": "stream",
     "text": [
      "27보다 작습니다.\n"
     ]
    },
    {
     "name": "stdin",
     "output_type": "stream",
     "text": [
      "1~100 숫자 입력: 32\n"
     ]
    },
    {
     "name": "stdout",
     "output_type": "stream",
     "text": [
      "32보다 작습니다.\n"
     ]
    },
    {
     "name": "stdin",
     "output_type": "stream",
     "text": [
      "1~100 숫자 입력: 5\n"
     ]
    },
    {
     "name": "stdout",
     "output_type": "stream",
     "text": [
      "5보다 큽니다.\n"
     ]
    },
    {
     "name": "stdin",
     "output_type": "stream",
     "text": [
      "1~100 숫자 입력: 8\n"
     ]
    },
    {
     "name": "stdout",
     "output_type": "stream",
     "text": [
      "8보다 큽니다.\n"
     ]
    },
    {
     "name": "stdin",
     "output_type": "stream",
     "text": [
      "1~100 숫자 입력: 12\n"
     ]
    },
    {
     "name": "stdout",
     "output_type": "stream",
     "text": [
      "정답입니다! 5회 만에 맞췄습니다.\n"
     ]
    }
   ],
   "source": [
    "import random\n",
    "print('1부터 100까지의 수 중 하나를 정했습니다.')\n",
    "print('이 숫자를 맞춰보세요')\n",
    "\n",
    "answer=random.randint(1, 100)\n",
    "times=0\n",
    "\n",
    "while True:\n",
    "    user=int(input('1~100 숫자 입력:'))\n",
    "    times+=1\n",
    "    if user==answer:\n",
    "        break\n",
    "    elif user<answer:\n",
    "        print(f'{user}보다 큽니다.')\n",
    "    else:\n",
    "        print(f'{user}보다 작습니다.')\n",
    "\n",
    "print(f'정답입니다! {times}회 만에 맞췄습니다.')"
   ]
  },
  {
   "cell_type": "code",
   "execution_count": 15,
   "id": "179ddfbe-d6d4-42e0-b6d2-ec89815ffbd5",
   "metadata": {},
   "outputs": [
    {
     "name": "stdout",
     "output_type": "stream",
     "text": [
      "숫자 리스트의 요소:\n",
      "1\n",
      "5\n",
      "12\n",
      "8\n",
      "21\n"
     ]
    }
   ],
   "source": [
    "numbers = [1, 5, 12, 8, 21]\n",
    "print(\"숫자 리스트의 요소:\")\n",
    "for num in numbers:\n",
    "    print(num)"
   ]
  },
  {
   "cell_type": "code",
   "execution_count": 16,
   "id": "75927ca7-8cb6-4973-989f-fd61ac59bb8f",
   "metadata": {},
   "outputs": [
    {
     "name": "stdout",
     "output_type": "stream",
     "text": [
      "[4]\n",
      "[4, 34]\n",
      "[4, 34, 6]\n",
      "[4, 34, 6, 27]\n",
      "[4, 34, 6, 27, 9]\n",
      "[4, 34, 6, 27, 9, 22]\n"
     ]
    }
   ],
   "source": [
    "import random\n",
    "my_list=[]\n",
    "\n",
    "for i in range(1,7):\n",
    "    num=random.randint(1, 45)\n",
    "    my_list.append(num)\n",
    "\n",
    "    #리스트 출력\n",
    "    print(my_list)"
   ]
  },
  {
   "cell_type": "code",
   "execution_count": 18,
   "id": "7f9b1772-2705-4eac-bc59-9038577ff87c",
   "metadata": {},
   "outputs": [
    {
     "name": "stdout",
     "output_type": "stream",
     "text": [
      "이 학생의 평균 성적은 {86.4} 입니다.\n"
     ]
    }
   ],
   "source": [
    "성적=[85, 92, 78, 90, 87]\n",
    "평균=sum(성적)/len(성적)\n",
    "print(f\"이 학생의 평균 성적은\", {평균}, \"입니다.\")"
   ]
  },
  {
   "cell_type": "code",
   "execution_count": null,
   "id": "69491f8a-9a50-4884-8bab-d8e2f88fe1f2",
   "metadata": {},
   "outputs": [],
   "source": [
    "성적\n",
    "총합=\n",
    "평균=\n",
    "항목 수\n",
    "for 점수 in 성적:\n",
    "    총합+=점수\n",
    "    항목수+=1\n",
    "평균 "
   ]
  },
  {
   "cell_type": "code",
   "execution_count": null,
   "id": "a5c2339e-8df3-4870-b663-d5cad0bf9317",
   "metadata": {},
   "outputs": [],
   "source": []
  }
 ],
 "metadata": {
  "kernelspec": {
   "display_name": "Python 3 (ipykernel)",
   "language": "python",
   "name": "python3"
  },
  "language_info": {
   "codemirror_mode": {
    "name": "ipython",
    "version": 3
   },
   "file_extension": ".py",
   "mimetype": "text/x-python",
   "name": "python",
   "nbconvert_exporter": "python",
   "pygments_lexer": "ipython3",
   "version": "3.12.6"
  }
 },
 "nbformat": 4,
 "nbformat_minor": 5
}
