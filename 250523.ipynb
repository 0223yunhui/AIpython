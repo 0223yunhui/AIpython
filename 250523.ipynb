{
  "nbformat": 4,
  "nbformat_minor": 0,
  "metadata": {
    "colab": {
      "provenance": [],
      "authorship_tag": "ABX9TyPs3AwJ3k/xlBZNyCbVO3jl",
      "include_colab_link": true
    },
    "kernelspec": {
      "name": "python3",
      "display_name": "Python 3"
    },
    "language_info": {
      "name": "python"
    }
  },
  "cells": [
    {
      "cell_type": "markdown",
      "metadata": {
        "id": "view-in-github",
        "colab_type": "text"
      },
      "source": [
        "<a href=\"https://colab.research.google.com/github/0223yunhui/AIpython/blob/main/250523.ipynb\" target=\"_parent\"><img src=\"https://colab.research.google.com/assets/colab-badge.svg\" alt=\"Open In Colab\"/></a>"
      ]
    },
    {
      "cell_type": "code",
      "execution_count": 2,
      "metadata": {
        "id": "XgJqHh2Zw7i9"
      },
      "outputs": [],
      "source": [
        "import pandas as pd\n",
        "import numpy as np\n",
        "import matplotlib.pyplot as plt"
      ]
    },
    {
      "cell_type": "code",
      "source": [
        "df=pd.read_csv('example_data.csv')\n",
        "print(df)"
      ],
      "metadata": {
        "colab": {
          "base_uri": "https://localhost:8080/"
        },
        "id": "XImbuThyxIpO",
        "outputId": "541502b2-7bf2-49ef-f5c1-28b848e862c1"
      },
      "execution_count": 3,
      "outputs": [
        {
          "output_type": "stream",
          "name": "stdout",
          "text": [
            "    학번    이름   학년   점수 분반  공부시간\n",
            "0    1  신사임당  NaN   69  B     4\n",
            "1    2   홍길동  1.0   92  B     3\n",
            "2    3   강감찬  4.0   91  C    20\n",
            "3    4   강감찬  2.0   70  C     5\n",
            "4    5   강감찬  3.0   83  C     5\n",
            "5    6   이순신  4.0   95  A     0\n",
            "6    7   강감찬  4.0   71  C     1\n",
            "7    8   김유신  NaN   88  B     5\n",
            "8    9  신사임당  3.0   94  A     9\n",
            "9   10   홍길동  NaN   60  B     3\n",
            "10  11   NaN  1.0  200  C     0\n",
            "11  12  신사임당  2.0   96  A    20\n",
            "12  13   김유신  4.0   65  A     0\n",
            "13  14   NaN  2.0   98  C     1\n",
            "14  15   홍길동  4.0   77  A     2\n",
            "15  16   이순신  4.0   75  A     4\n",
            "16  17   NaN  3.0   64  A     2\n",
            "17  18   홍길동  4.0   91  A     0\n",
            "18  19   이순신  1.0  200  A     3\n",
            "19  20  신사임당  2.0   61  A     2\n",
            "20  20  신사임당  2.0   61  A     2\n"
          ]
        }
      ]
    },
    {
      "cell_type": "code",
      "source": [
        "df.info()"
      ],
      "metadata": {
        "colab": {
          "base_uri": "https://localhost:8080/"
        },
        "id": "p4EU_wTlxe7u",
        "outputId": "541f9689-706c-4a0e-963e-6067fc9894fe"
      },
      "execution_count": 4,
      "outputs": [
        {
          "output_type": "stream",
          "name": "stdout",
          "text": [
            "<class 'pandas.core.frame.DataFrame'>\n",
            "RangeIndex: 21 entries, 0 to 20\n",
            "Data columns (total 6 columns):\n",
            " #   Column  Non-Null Count  Dtype  \n",
            "---  ------  --------------  -----  \n",
            " 0   학번      21 non-null     int64  \n",
            " 1   이름      18 non-null     object \n",
            " 2   학년      18 non-null     float64\n",
            " 3   점수      21 non-null     int64  \n",
            " 4   분반      21 non-null     object \n",
            " 5   공부시간    21 non-null     int64  \n",
            "dtypes: float64(1), int64(3), object(2)\n",
            "memory usage: 1.1+ KB\n"
          ]
        }
      ]
    },
    {
      "cell_type": "code",
      "source": [
        "df.describe()"
      ],
      "metadata": {
        "id": "dgJGVJhaxhaX"
      },
      "execution_count": null,
      "outputs": []
    },
    {
      "cell_type": "code",
      "source": [
        "print(df.isnull().sum())"
      ],
      "metadata": {
        "id": "LgqNNz7Sxkd2"
      },
      "execution_count": null,
      "outputs": []
    },
    {
      "cell_type": "code",
      "source": [
        "outliers = df[(df['점수'] > 100) | (df['공부시간'] > 10)]\n",
        "print(f\"이상치 개수: {len(outliers)}\")\n",
        "print(f\"이상치 데이터:\")\n",
        "print(outliers)"
      ],
      "metadata": {
        "id": "tYojYQ2Pxlwm"
      },
      "execution_count": null,
      "outputs": []
    },
    {
      "cell_type": "code",
      "source": [
        "print(f\"중복 제거 전 데이터프레임 크기: {df.shape}\")\n",
        "duplicated_df=df[df.duplicated(keep=False)]\n",
        "print(f\"완전 중복 행 개수: {len(duplicated_df)}\")\n",
        "print(duplicated_df)"
      ],
      "metadata": {
        "id": "0Z4fEQMTxm6-"
      },
      "execution_count": null,
      "outputs": []
    },
    {
      "cell_type": "code",
      "source": [
        "df_cleaned = df.drop_duplicates()\n",
        "print(f\"중복 제거 후 데이터프레임 크기: {df_cleaned.shape}\")\n",
        "print(f\"제거된 행 수: {df.duplicated().sum()}\")\n",
        "print(df_cleaned)"
      ],
      "metadata": {
        "colab": {
          "base_uri": "https://localhost:8080/"
        },
        "id": "m1r1LPy7xrO-",
        "outputId": "8184ff9c-c405-4022-92a3-3a611b581555"
      },
      "execution_count": 5,
      "outputs": [
        {
          "output_type": "stream",
          "name": "stdout",
          "text": [
            "중복 제거 후 데이터프레임 크기: (20, 6)\n",
            "제거된 행 수: 1\n",
            "    학번    이름   학년   점수 분반  공부시간\n",
            "0    1  신사임당  NaN   69  B     4\n",
            "1    2   홍길동  1.0   92  B     3\n",
            "2    3   강감찬  4.0   91  C    20\n",
            "3    4   강감찬  2.0   70  C     5\n",
            "4    5   강감찬  3.0   83  C     5\n",
            "5    6   이순신  4.0   95  A     0\n",
            "6    7   강감찬  4.0   71  C     1\n",
            "7    8   김유신  NaN   88  B     5\n",
            "8    9  신사임당  3.0   94  A     9\n",
            "9   10   홍길동  NaN   60  B     3\n",
            "10  11   NaN  1.0  200  C     0\n",
            "11  12  신사임당  2.0   96  A    20\n",
            "12  13   김유신  4.0   65  A     0\n",
            "13  14   NaN  2.0   98  C     1\n",
            "14  15   홍길동  4.0   77  A     2\n",
            "15  16   이순신  4.0   75  A     4\n",
            "16  17   NaN  3.0   64  A     2\n",
            "17  18   홍길동  4.0   91  A     0\n",
            "18  19   이순신  1.0  200  A     3\n",
            "19  20  신사임당  2.0   61  A     2\n"
          ]
        }
      ]
    },
    {
      "cell_type": "code",
      "source": [
        "import matplotlib.pyplot as plt\n",
        "import seaborn as sns\n",
        "sns.scatterplot(x='공부시간', y='점수', data=df)\n",
        "\n",
        "\n",
        "plt.title('원본 데이터: 공부시간vs점수')\n",
        "plt.xlabel('공부시간')\n",
        "plt.ylabel('점수')\n",
        "\n",
        "plt.show()"
      ],
      "metadata": {
        "colab": {
          "base_uri": "https://localhost:8080/",
          "height": 878
        },
        "id": "2BCudl1cxpm2",
        "outputId": "18fd92d0-f2d9-4287-a561-b92291d7eafc"
      },
      "execution_count": 7,
      "outputs": [
        {
          "output_type": "stream",
          "name": "stderr",
          "text": [
            "/usr/local/lib/python3.11/dist-packages/IPython/core/pylabtools.py:151: UserWarning: Glyph 51216 (\\N{HANGUL SYLLABLE JEOM}) missing from font(s) DejaVu Sans.\n",
            "  fig.canvas.print_figure(bytes_io, **kw)\n",
            "/usr/local/lib/python3.11/dist-packages/IPython/core/pylabtools.py:151: UserWarning: Glyph 49688 (\\N{HANGUL SYLLABLE SU}) missing from font(s) DejaVu Sans.\n",
            "  fig.canvas.print_figure(bytes_io, **kw)\n",
            "/usr/local/lib/python3.11/dist-packages/IPython/core/pylabtools.py:151: UserWarning: Glyph 50896 (\\N{HANGUL SYLLABLE WEON}) missing from font(s) DejaVu Sans.\n",
            "  fig.canvas.print_figure(bytes_io, **kw)\n",
            "/usr/local/lib/python3.11/dist-packages/IPython/core/pylabtools.py:151: UserWarning: Glyph 48376 (\\N{HANGUL SYLLABLE BON}) missing from font(s) DejaVu Sans.\n",
            "  fig.canvas.print_figure(bytes_io, **kw)\n",
            "/usr/local/lib/python3.11/dist-packages/IPython/core/pylabtools.py:151: UserWarning: Glyph 45936 (\\N{HANGUL SYLLABLE DE}) missing from font(s) DejaVu Sans.\n",
            "  fig.canvas.print_figure(bytes_io, **kw)\n",
            "/usr/local/lib/python3.11/dist-packages/IPython/core/pylabtools.py:151: UserWarning: Glyph 51060 (\\N{HANGUL SYLLABLE I}) missing from font(s) DejaVu Sans.\n",
            "  fig.canvas.print_figure(bytes_io, **kw)\n",
            "/usr/local/lib/python3.11/dist-packages/IPython/core/pylabtools.py:151: UserWarning: Glyph 53552 (\\N{HANGUL SYLLABLE TEO}) missing from font(s) DejaVu Sans.\n",
            "  fig.canvas.print_figure(bytes_io, **kw)\n",
            "/usr/local/lib/python3.11/dist-packages/IPython/core/pylabtools.py:151: UserWarning: Glyph 44277 (\\N{HANGUL SYLLABLE GONG}) missing from font(s) DejaVu Sans.\n",
            "  fig.canvas.print_figure(bytes_io, **kw)\n",
            "/usr/local/lib/python3.11/dist-packages/IPython/core/pylabtools.py:151: UserWarning: Glyph 48512 (\\N{HANGUL SYLLABLE BU}) missing from font(s) DejaVu Sans.\n",
            "  fig.canvas.print_figure(bytes_io, **kw)\n",
            "/usr/local/lib/python3.11/dist-packages/IPython/core/pylabtools.py:151: UserWarning: Glyph 49884 (\\N{HANGUL SYLLABLE SI}) missing from font(s) DejaVu Sans.\n",
            "  fig.canvas.print_figure(bytes_io, **kw)\n",
            "/usr/local/lib/python3.11/dist-packages/IPython/core/pylabtools.py:151: UserWarning: Glyph 44036 (\\N{HANGUL SYLLABLE GAN}) missing from font(s) DejaVu Sans.\n",
            "  fig.canvas.print_figure(bytes_io, **kw)\n"
          ]
        },
        {
          "output_type": "display_data",
          "data": {
            "text/plain": [
              "<Figure size 640x480 with 1 Axes>"
            ],
            "image/png": "[encoded data removed]"
          },
          "metadata": {}
        }
      ]
    },
    {
      "cell_type": "code",
      "source": [
        "data = pd.Series([10, 11, 12, 13, 14, 15, 100, 101])\n",
        "Q1 = data.quantile(0.25)\n",
        "Q3 = data.quantile(0.75)\n",
        "IQR = Q3 - Q1\n",
        "Lower_Bound = Q1 - 1.5 * IQR\n",
        "Upper_Bound = Q3 + 1.5 * IQR\n",
        "print(f\"하한 이상치: {Lower_Bound}\")\n",
        "print(f\"상한 이상치: {Upper_Bound}\")"
      ],
      "metadata": {
        "colab": {
          "base_uri": "https://localhost:8080/"
        },
        "id": "rfHCrb8Fyuu2",
        "outputId": "0a3d0100-5ddc-433d-90ff-9d04c8bd7025"
      },
      "execution_count": 15,
      "outputs": [
        {
          "output_type": "stream",
          "name": "stdout",
          "text": [
            "하한 이상치: -25.0\n",
            "상한 이상치: 73.0\n"
          ]
        }
      ]
    },
    {
      "cell_type": "code",
      "source": [
        "Q1_score = df['점수'].quantile(0.25)\n",
        "Q3_score = df['점수'].quantile(0.75)\n",
        "IQR_score = Q3_score - Q1_score\n",
        "Lower_Bound_score = Q1_score - 1.5 * IQR_score\n",
        "Upper_Bound_score = Q3_score + 1.5 * IQR_score"
      ],
      "metadata": {
        "id": "gjHIwCFc066_"
      },
      "execution_count": 27,
      "outputs": []
    },
    {
      "cell_type": "code",
      "source": [
        "score_outliers = df[(df['점수'] < Lower_Bound_score) | (df['점수'] > Upper_Bound_score)]\n",
        "print(\"점수 이상치:\")\n",
        "print(score_outliers)"
      ],
      "metadata": {
        "colab": {
          "base_uri": "https://localhost:8080/"
        },
        "id": "i7GEj5Mb1jsO",
        "outputId": "b60cc867-38c7-4d22-e603-d55538b38b45"
      },
      "execution_count": 36,
      "outputs": [
        {
          "output_type": "stream",
          "name": "stdout",
          "text": [
            "점수 이상치:\n",
            "    학번   이름   학년   점수 분반  공부시간\n",
            "10  11  NaN  1.0  200  C     0\n",
            "18  19  이순신  1.0  200  A     3\n"
          ]
        }
      ]
    },
    {
      "cell_type": "code",
      "source": [
        "Q1_study = df['공부시간'].quantile(0.25)\n",
        "Q3_study = df['공부시간'].quantile(0.75)\n",
        "IQR_study = Q3_study - Q1_study\n",
        "Lower_Bound_study = Q1_study - 1.5 * IQR_study\n",
        "Upper_Bound_study = Q3_study + 1.5 * IQR_study"
      ],
      "metadata": {
        "id": "9O2Hdyky12w-"
      },
      "execution_count": 66,
      "outputs": []
    },
    {
      "cell_type": "code",
      "source": [
        "study_outliers = df[((df['공부시간'] < Lower_Bound_study) | (df['공부시간'] > Upper_Bound_study))]\n",
        "print(\"공부시간 이상치:\")\n",
        "print(study_outliers)"
      ],
      "metadata": {
        "colab": {
          "base_uri": "https://localhost:8080/"
        },
        "id": "-CYrUqVi2CrX",
        "outputId": "082f90a0-74c7-428d-cec1-f91e6a6da400"
      },
      "execution_count": 67,
      "outputs": [
        {
          "output_type": "stream",
          "name": "stdout",
          "text": [
            "공부시간 이상치:\n",
            "    학번    이름   학년  점수 분반  공부시간\n",
            "2    3   강감찬  4.0  91  C    20\n",
            "11  12  신사임당  2.0  96  A    20\n"
          ]
        }
      ]
    },
    {
      "cell_type": "code",
      "source": [
        "df_no_outliers = df_no_outliers = df[\n",
        "   ((df['점수'] >= Lower_Bound_score) & (df['점수'] <= Upper_Bound_score)) &\n",
        "    ((df['공부시간'] >= Lower_Bound_study) & (df['공부시간'] <= Upper_Bound_study))\n",
        "    ]\n",
        "print(df_no_outliers)"
      ],
      "metadata": {
        "colab": {
          "base_uri": "https://localhost:8080/"
        },
        "id": "T92DZ6f72TcW",
        "outputId": "8546475c-e0d8-4b6e-989d-6f5960ba5f83"
      },
      "execution_count": 68,
      "outputs": [
        {
          "output_type": "stream",
          "name": "stdout",
          "text": [
            "    학번    이름   학년  점수 분반  공부시간\n",
            "0    1  신사임당  NaN  69  B     4\n",
            "1    2   홍길동  1.0  92  B     3\n",
            "3    4   강감찬  2.0  70  C     5\n",
            "4    5   강감찬  3.0  83  C     5\n",
            "5    6   이순신  4.0  95  A     0\n",
            "6    7   강감찬  4.0  71  C     1\n",
            "7    8   김유신  NaN  88  B     5\n",
            "8    9  신사임당  3.0  94  A     9\n",
            "9   10   홍길동  NaN  60  B     3\n",
            "12  13   김유신  4.0  65  A     0\n",
            "13  14   NaN  2.0  98  C     1\n",
            "14  15   홍길동  4.0  77  A     2\n",
            "15  16   이순신  4.0  75  A     4\n",
            "16  17   NaN  3.0  64  A     2\n",
            "17  18   홍길동  4.0  91  A     0\n",
            "19  20  신사임당  2.0  61  A     2\n",
            "20  20  신사임당  2.0  61  A     2\n"
          ]
        }
      ]
    },
    {
      "cell_type": "code",
      "source": [
        "class_mean = df_no_outliers.groupby('분반')['점수'].mean()\n",
        "print(class_mean.round(2))"
      ],
      "metadata": {
        "colab": {
          "base_uri": "https://localhost:8080/"
        },
        "id": "ZQuULZeF5Ci-",
        "outputId": "0ae0a4c9-b248-4008-a67b-0f2bf5fb7e9a"
      },
      "execution_count": 69,
      "outputs": [
        {
          "output_type": "stream",
          "name": "stdout",
          "text": [
            "분반\n",
            "A    75.89\n",
            "B    77.25\n",
            "C    80.50\n",
            "Name: 점수, dtype: float64\n"
          ]
        }
      ]
    },
    {
      "cell_type": "code",
      "source": [
        "sns.barplot(x='분반', y='점수', data=df_no_outliers)\n",
        "\n",
        "plt.title('분반별 점수')\n",
        "plt.xlabel('분반')\n",
        "plt.ylabel('점수')\n",
        "\n",
        "plt.show()"
      ],
      "metadata": {
        "colab": {
          "base_uri": "https://localhost:8080/",
          "height": 657
        },
        "id": "TGDlTQzz7cf2",
        "outputId": "53023810-5598-41a1-b6c7-e0670ad9f5cb"
      },
      "execution_count": 70,
      "outputs": [
        {
          "output_type": "stream",
          "name": "stderr",
          "text": [
            "/usr/local/lib/python3.11/dist-packages/IPython/core/pylabtools.py:151: UserWarning: Glyph 51216 (\\N{HANGUL SYLLABLE JEOM}) missing from font(s) DejaVu Sans.\n",
            "  fig.canvas.print_figure(bytes_io, **kw)\n",
            "/usr/local/lib/python3.11/dist-packages/IPython/core/pylabtools.py:151: UserWarning: Glyph 49688 (\\N{HANGUL SYLLABLE SU}) missing from font(s) DejaVu Sans.\n",
            "  fig.canvas.print_figure(bytes_io, **kw)\n",
            "/usr/local/lib/python3.11/dist-packages/IPython/core/pylabtools.py:151: UserWarning: Glyph 48516 (\\N{HANGUL SYLLABLE BUN}) missing from font(s) DejaVu Sans.\n",
            "  fig.canvas.print_figure(bytes_io, **kw)\n",
            "/usr/local/lib/python3.11/dist-packages/IPython/core/pylabtools.py:151: UserWarning: Glyph 48152 (\\N{HANGUL SYLLABLE BAN}) missing from font(s) DejaVu Sans.\n",
            "  fig.canvas.print_figure(bytes_io, **kw)\n",
            "/usr/local/lib/python3.11/dist-packages/IPython/core/pylabtools.py:151: UserWarning: Glyph 48324 (\\N{HANGUL SYLLABLE BYEOL}) missing from font(s) DejaVu Sans.\n",
            "  fig.canvas.print_figure(bytes_io, **kw)\n"
          ]
        },
        {
          "output_type": "display_data",
          "data": {
            "text/plain": [
              "<Figure size 640x480 with 1 Axes>"
            ],
            "image/png": "[encoded data removed]"
          },
          "metadata": {}
        }
      ]
    }
  ]
}